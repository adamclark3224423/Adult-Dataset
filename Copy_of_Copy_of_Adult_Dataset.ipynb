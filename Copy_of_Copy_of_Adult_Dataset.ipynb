{
  "nbformat": 4,
  "nbformat_minor": 0,
  "metadata": {
    "colab": {
      "name": "Copy of Copy of   Adult_Dataset.ipynb",
      "provenance": [],
      "collapsed_sections": []
    },
    "kernelspec": {
      "name": "python3",
      "display_name": "Python 3"
    },
    "language_info": {
      "name": "python"
    }
  },
  "cells": [
    {
      "cell_type": "code",
      "metadata": {
        "id": "hP7wzx5ruVvL"
      },
      "source": [
        ""
      ],
      "execution_count": null,
      "outputs": []
    },
    {
      "cell_type": "code",
      "metadata": {
        "id": "6iYls7X8t86a"
      },
      "source": [
        "import matplotlib.pyplot as plt\n",
        "import pandas as pd\n",
        "import numpy as np\n",
        "import seaborn as sns\n",
        "from scipy import stats\n",
        "import sklearn"
      ],
      "execution_count": 1,
      "outputs": []
    },
    {
      "cell_type": "code",
      "metadata": {
        "id": "iU60ROgcuZXx"
      },
      "source": [
        "from math import log2,sqrt "
      ],
      "execution_count": 2,
      "outputs": []
    },
    {
      "cell_type": "code",
      "metadata": {
        "id": "zGZOTYxTukSE"
      },
      "source": [
        "from sklearn.model_selection import train_test_split\n",
        "from sklearn.preprocessing import LabelEncoder\n",
        "from sklearn.preprocessing import OneHotEncoder\n",
        "from sklearn.tree import DecisionTreeClassifier\n",
        "from sklearn import metrics\n",
        "from sklearn import tree\n",
        "from sklearn import preprocessing \n",
        "from sklearn.tree import export_graphviz\n",
        "from sklearn.model_selection import GridSearchCV"
      ],
      "execution_count": 3,
      "outputs": []
    },
    {
      "cell_type": "code",
      "metadata": {
        "id": "y0emb-jtvv9P"
      },
      "source": [
        "from six import StringIO\n",
        "from IPython.display import Image\n",
        "import pydotplus\n",
        "from tqdm.notebook import tqdm_notebook as tqdm"
      ],
      "execution_count": 4,
      "outputs": []
    },
    {
      "cell_type": "code",
      "metadata": {
        "colab": {
          "base_uri": "https://localhost:8080/",
          "height": 456
        },
        "id": "7nL2ZrlnUChi",
        "outputId": "4cd13711-e03b-42dd-b2d2-e5058cce3aaa"
      },
      "source": [
        "column_names =['age', 'workclass','fnlwg', \"education\", 'education_num', 'marital_status',\n",
        "                 \"occupation\", \"relationship\", \"race\", \"sex\", 'capital_gain', 'capital_loss', \"hours_per_week\",\n",
        "               'country', 'target']\n",
        "data = pd.read_csv(\"adult_data.csv\",header=None, names = column_names)\n",
        "data.head()"
      ],
      "execution_count": 5,
      "outputs": [
        {
          "output_type": "error",
          "ename": "FileNotFoundError",
          "evalue": "ignored",
          "traceback": [
            "\u001b[0;31m---------------------------------------------------------------------------\u001b[0m",
            "\u001b[0;31mFileNotFoundError\u001b[0m                         Traceback (most recent call last)",
            "\u001b[0;32m<ipython-input-5-7097f70a1aa9>\u001b[0m in \u001b[0;36m<module>\u001b[0;34m()\u001b[0m\n\u001b[1;32m      2\u001b[0m                  \u001b[0;34m\"occupation\"\u001b[0m\u001b[0;34m,\u001b[0m \u001b[0;34m\"relationship\"\u001b[0m\u001b[0;34m,\u001b[0m \u001b[0;34m\"race\"\u001b[0m\u001b[0;34m,\u001b[0m \u001b[0;34m\"sex\"\u001b[0m\u001b[0;34m,\u001b[0m \u001b[0;34m'capital_gain'\u001b[0m\u001b[0;34m,\u001b[0m \u001b[0;34m'capital_loss'\u001b[0m\u001b[0;34m,\u001b[0m \u001b[0;34m\"hours_per_week\"\u001b[0m\u001b[0;34m,\u001b[0m\u001b[0;34m\u001b[0m\u001b[0;34m\u001b[0m\u001b[0m\n\u001b[1;32m      3\u001b[0m                'country', 'target']\n\u001b[0;32m----> 4\u001b[0;31m \u001b[0mdata\u001b[0m \u001b[0;34m=\u001b[0m \u001b[0mpd\u001b[0m\u001b[0;34m.\u001b[0m\u001b[0mread_csv\u001b[0m\u001b[0;34m(\u001b[0m\u001b[0;34m\"adult_data.csv\"\u001b[0m\u001b[0;34m,\u001b[0m\u001b[0mheader\u001b[0m\u001b[0;34m=\u001b[0m\u001b[0;32mNone\u001b[0m\u001b[0;34m,\u001b[0m \u001b[0mnames\u001b[0m \u001b[0;34m=\u001b[0m \u001b[0mcolumn_names\u001b[0m\u001b[0;34m)\u001b[0m\u001b[0;34m\u001b[0m\u001b[0;34m\u001b[0m\u001b[0m\n\u001b[0m\u001b[1;32m      5\u001b[0m \u001b[0mdata\u001b[0m\u001b[0;34m.\u001b[0m\u001b[0mhead\u001b[0m\u001b[0;34m(\u001b[0m\u001b[0;34m)\u001b[0m\u001b[0;34m\u001b[0m\u001b[0;34m\u001b[0m\u001b[0m\n",
            "\u001b[0;32m/usr/local/lib/python3.7/dist-packages/pandas/io/parsers.py\u001b[0m in \u001b[0;36mread_csv\u001b[0;34m(filepath_or_buffer, sep, delimiter, header, names, index_col, usecols, squeeze, prefix, mangle_dupe_cols, dtype, engine, converters, true_values, false_values, skipinitialspace, skiprows, skipfooter, nrows, na_values, keep_default_na, na_filter, verbose, skip_blank_lines, parse_dates, infer_datetime_format, keep_date_col, date_parser, dayfirst, cache_dates, iterator, chunksize, compression, thousands, decimal, lineterminator, quotechar, quoting, doublequote, escapechar, comment, encoding, dialect, error_bad_lines, warn_bad_lines, delim_whitespace, low_memory, memory_map, float_precision)\u001b[0m\n\u001b[1;32m    686\u001b[0m     )\n\u001b[1;32m    687\u001b[0m \u001b[0;34m\u001b[0m\u001b[0m\n\u001b[0;32m--> 688\u001b[0;31m     \u001b[0;32mreturn\u001b[0m \u001b[0m_read\u001b[0m\u001b[0;34m(\u001b[0m\u001b[0mfilepath_or_buffer\u001b[0m\u001b[0;34m,\u001b[0m \u001b[0mkwds\u001b[0m\u001b[0;34m)\u001b[0m\u001b[0;34m\u001b[0m\u001b[0;34m\u001b[0m\u001b[0m\n\u001b[0m\u001b[1;32m    689\u001b[0m \u001b[0;34m\u001b[0m\u001b[0m\n\u001b[1;32m    690\u001b[0m \u001b[0;34m\u001b[0m\u001b[0m\n",
            "\u001b[0;32m/usr/local/lib/python3.7/dist-packages/pandas/io/parsers.py\u001b[0m in \u001b[0;36m_read\u001b[0;34m(filepath_or_buffer, kwds)\u001b[0m\n\u001b[1;32m    452\u001b[0m \u001b[0;34m\u001b[0m\u001b[0m\n\u001b[1;32m    453\u001b[0m     \u001b[0;31m# Create the parser.\u001b[0m\u001b[0;34m\u001b[0m\u001b[0;34m\u001b[0m\u001b[0;34m\u001b[0m\u001b[0m\n\u001b[0;32m--> 454\u001b[0;31m     \u001b[0mparser\u001b[0m \u001b[0;34m=\u001b[0m \u001b[0mTextFileReader\u001b[0m\u001b[0;34m(\u001b[0m\u001b[0mfp_or_buf\u001b[0m\u001b[0;34m,\u001b[0m \u001b[0;34m**\u001b[0m\u001b[0mkwds\u001b[0m\u001b[0;34m)\u001b[0m\u001b[0;34m\u001b[0m\u001b[0;34m\u001b[0m\u001b[0m\n\u001b[0m\u001b[1;32m    455\u001b[0m \u001b[0;34m\u001b[0m\u001b[0m\n\u001b[1;32m    456\u001b[0m     \u001b[0;32mif\u001b[0m \u001b[0mchunksize\u001b[0m \u001b[0;32mor\u001b[0m \u001b[0miterator\u001b[0m\u001b[0;34m:\u001b[0m\u001b[0;34m\u001b[0m\u001b[0;34m\u001b[0m\u001b[0m\n",
            "\u001b[0;32m/usr/local/lib/python3.7/dist-packages/pandas/io/parsers.py\u001b[0m in \u001b[0;36m__init__\u001b[0;34m(self, f, engine, **kwds)\u001b[0m\n\u001b[1;32m    946\u001b[0m             \u001b[0mself\u001b[0m\u001b[0;34m.\u001b[0m\u001b[0moptions\u001b[0m\u001b[0;34m[\u001b[0m\u001b[0;34m\"has_index_names\"\u001b[0m\u001b[0;34m]\u001b[0m \u001b[0;34m=\u001b[0m \u001b[0mkwds\u001b[0m\u001b[0;34m[\u001b[0m\u001b[0;34m\"has_index_names\"\u001b[0m\u001b[0;34m]\u001b[0m\u001b[0;34m\u001b[0m\u001b[0;34m\u001b[0m\u001b[0m\n\u001b[1;32m    947\u001b[0m \u001b[0;34m\u001b[0m\u001b[0m\n\u001b[0;32m--> 948\u001b[0;31m         \u001b[0mself\u001b[0m\u001b[0;34m.\u001b[0m\u001b[0m_make_engine\u001b[0m\u001b[0;34m(\u001b[0m\u001b[0mself\u001b[0m\u001b[0;34m.\u001b[0m\u001b[0mengine\u001b[0m\u001b[0;34m)\u001b[0m\u001b[0;34m\u001b[0m\u001b[0;34m\u001b[0m\u001b[0m\n\u001b[0m\u001b[1;32m    949\u001b[0m \u001b[0;34m\u001b[0m\u001b[0m\n\u001b[1;32m    950\u001b[0m     \u001b[0;32mdef\u001b[0m \u001b[0mclose\u001b[0m\u001b[0;34m(\u001b[0m\u001b[0mself\u001b[0m\u001b[0;34m)\u001b[0m\u001b[0;34m:\u001b[0m\u001b[0;34m\u001b[0m\u001b[0;34m\u001b[0m\u001b[0m\n",
            "\u001b[0;32m/usr/local/lib/python3.7/dist-packages/pandas/io/parsers.py\u001b[0m in \u001b[0;36m_make_engine\u001b[0;34m(self, engine)\u001b[0m\n\u001b[1;32m   1178\u001b[0m     \u001b[0;32mdef\u001b[0m \u001b[0m_make_engine\u001b[0m\u001b[0;34m(\u001b[0m\u001b[0mself\u001b[0m\u001b[0;34m,\u001b[0m \u001b[0mengine\u001b[0m\u001b[0;34m=\u001b[0m\u001b[0;34m\"c\"\u001b[0m\u001b[0;34m)\u001b[0m\u001b[0;34m:\u001b[0m\u001b[0;34m\u001b[0m\u001b[0;34m\u001b[0m\u001b[0m\n\u001b[1;32m   1179\u001b[0m         \u001b[0;32mif\u001b[0m \u001b[0mengine\u001b[0m \u001b[0;34m==\u001b[0m \u001b[0;34m\"c\"\u001b[0m\u001b[0;34m:\u001b[0m\u001b[0;34m\u001b[0m\u001b[0;34m\u001b[0m\u001b[0m\n\u001b[0;32m-> 1180\u001b[0;31m             \u001b[0mself\u001b[0m\u001b[0;34m.\u001b[0m\u001b[0m_engine\u001b[0m \u001b[0;34m=\u001b[0m \u001b[0mCParserWrapper\u001b[0m\u001b[0;34m(\u001b[0m\u001b[0mself\u001b[0m\u001b[0;34m.\u001b[0m\u001b[0mf\u001b[0m\u001b[0;34m,\u001b[0m \u001b[0;34m**\u001b[0m\u001b[0mself\u001b[0m\u001b[0;34m.\u001b[0m\u001b[0moptions\u001b[0m\u001b[0;34m)\u001b[0m\u001b[0;34m\u001b[0m\u001b[0;34m\u001b[0m\u001b[0m\n\u001b[0m\u001b[1;32m   1181\u001b[0m         \u001b[0;32melse\u001b[0m\u001b[0;34m:\u001b[0m\u001b[0;34m\u001b[0m\u001b[0;34m\u001b[0m\u001b[0m\n\u001b[1;32m   1182\u001b[0m             \u001b[0;32mif\u001b[0m \u001b[0mengine\u001b[0m \u001b[0;34m==\u001b[0m \u001b[0;34m\"python\"\u001b[0m\u001b[0;34m:\u001b[0m\u001b[0;34m\u001b[0m\u001b[0;34m\u001b[0m\u001b[0m\n",
            "\u001b[0;32m/usr/local/lib/python3.7/dist-packages/pandas/io/parsers.py\u001b[0m in \u001b[0;36m__init__\u001b[0;34m(self, src, **kwds)\u001b[0m\n\u001b[1;32m   2008\u001b[0m         \u001b[0mkwds\u001b[0m\u001b[0;34m[\u001b[0m\u001b[0;34m\"usecols\"\u001b[0m\u001b[0;34m]\u001b[0m \u001b[0;34m=\u001b[0m \u001b[0mself\u001b[0m\u001b[0;34m.\u001b[0m\u001b[0musecols\u001b[0m\u001b[0;34m\u001b[0m\u001b[0;34m\u001b[0m\u001b[0m\n\u001b[1;32m   2009\u001b[0m \u001b[0;34m\u001b[0m\u001b[0m\n\u001b[0;32m-> 2010\u001b[0;31m         \u001b[0mself\u001b[0m\u001b[0;34m.\u001b[0m\u001b[0m_reader\u001b[0m \u001b[0;34m=\u001b[0m \u001b[0mparsers\u001b[0m\u001b[0;34m.\u001b[0m\u001b[0mTextReader\u001b[0m\u001b[0;34m(\u001b[0m\u001b[0msrc\u001b[0m\u001b[0;34m,\u001b[0m \u001b[0;34m**\u001b[0m\u001b[0mkwds\u001b[0m\u001b[0;34m)\u001b[0m\u001b[0;34m\u001b[0m\u001b[0;34m\u001b[0m\u001b[0m\n\u001b[0m\u001b[1;32m   2011\u001b[0m         \u001b[0mself\u001b[0m\u001b[0;34m.\u001b[0m\u001b[0munnamed_cols\u001b[0m \u001b[0;34m=\u001b[0m \u001b[0mself\u001b[0m\u001b[0;34m.\u001b[0m\u001b[0m_reader\u001b[0m\u001b[0;34m.\u001b[0m\u001b[0munnamed_cols\u001b[0m\u001b[0;34m\u001b[0m\u001b[0;34m\u001b[0m\u001b[0m\n\u001b[1;32m   2012\u001b[0m \u001b[0;34m\u001b[0m\u001b[0m\n",
            "\u001b[0;32mpandas/_libs/parsers.pyx\u001b[0m in \u001b[0;36mpandas._libs.parsers.TextReader.__cinit__\u001b[0;34m()\u001b[0m\n",
            "\u001b[0;32mpandas/_libs/parsers.pyx\u001b[0m in \u001b[0;36mpandas._libs.parsers.TextReader._setup_parser_source\u001b[0;34m()\u001b[0m\n",
            "\u001b[0;31mFileNotFoundError\u001b[0m: [Errno 2] No such file or directory: 'adult_data.csv'"
          ]
        }
      ]
    },
    {
      "cell_type": "code",
      "metadata": {
        "id": "vGwBxLulWUZt"
      },
      "source": [
        "data.describe()"
      ],
      "execution_count": null,
      "outputs": []
    },
    {
      "cell_type": "code",
      "metadata": {
        "id": "UUGF8THwVrRa"
      },
      "source": [
        "data.info()\n",
        "\n"
      ],
      "execution_count": null,
      "outputs": []
    },
    {
      "cell_type": "code",
      "metadata": {
        "id": "OMMcErHnWGhf"
      },
      "source": [
        "print(f'dataset shape is{data.shape}')"
      ],
      "execution_count": null,
      "outputs": []
    },
    {
      "cell_type": "code",
      "metadata": {
        "id": "SNrsQM5TebyG"
      },
      "source": [
        "def entropy(class_y):\n",
        "\n",
        "    if len(class_y) <=1:\n",
        "        return 0\n",
        "\n",
        "    total_count = np.bincount(class_y)\n",
        "    probabilities = total_count[np.nonzero(total_count)] / len(class_y)\n",
        "    if len(probabilities) <= 1:\n",
        "        return 0\n",
        "\n",
        "    return -np.sum(probabilities * np.log(probabilities))/ np.log(len(probabilities))\n"
      ],
      "execution_count": null,
      "outputs": []
    },
    {
      "cell_type": "code",
      "metadata": {
        "id": "O4-KLVj8mLWT"
      },
      "source": [
        "X=[0,0,0,1,1,1]\n",
        "z=np.bincount(X)\n",
        "print(z)\n",
        "z[np.nonzero(z)]/len(X)"
      ],
      "execution_count": null,
      "outputs": []
    },
    {
      "cell_type": "code",
      "metadata": {
        "id": "R_-MZYaQdsQJ"
      },
      "source": [
        "def information_gain(previous_y, current_y):\n",
        "  \n",
        "    conditional_entropy=0\n",
        "    for y in current_y:\n",
        "        conditional_entropy += (entropy(y)*len(y)/len(previous_y))\n",
        "    info_gain = entropy(previous_y) - conditional_entropy\n",
        "    return info_gain\n"
      ],
      "execution_count": null,
      "outputs": []
    },
    {
      "cell_type": "code",
      "metadata": {
        "id": "fSJDK8Yadpwb"
      },
      "source": [
        "#Test Case\n",
        "test_class_y = [0,0,0,1,1,1,1,1]\n",
        "print(entropy(test_class_y))\n",
        "\n",
        "previous_y=[0,0,0,1,1,1]\n",
        "current_y=[0,0],[1,1,1,0]\n",
        "print(information_gain(previous_y,current_y))\n"
      ],
      "execution_count": null,
      "outputs": []
    },
    {
      "cell_type": "code",
      "metadata": {
        "id": "jx1FKlsj2lxI"
      },
      "source": [
        "def partition_classes(X, y, split_attribute, split_val):\n",
        "    \n",
        "    X = np.array(X)\n",
        "    column_split = X[:,split_attribute]\n",
        "    X_left = []\n",
        "    y_right = []\n",
        "    X_right =[]\n",
        "    y_left = []\n",
        "\n",
        "    counter=0\n",
        "\n",
        "    if isinstance(split_val,str) == False:\n",
        "        for i in column_split:\n",
        "            if i <= split_val:\n",
        "                X_left.append(X[counter])\n",
        "                y_left.append(y[counter])\n",
        "            else:\n",
        "                X_right.append(X[counter])\n",
        "                y_right.append(y[counter])\n",
        "            counter+=1\n",
        "         \n",
        "    else:\n",
        "        for i in column_split:\n",
        "            if i == split_val:\n",
        "                X_left.append(X[counter])\n",
        "                y_left.append(y[counter])\n",
        "            else:\n",
        "                X_right.append(X[counter])\n",
        "                y_right.append(y[counter])\n",
        "            counter+=1;\n",
        "\n",
        "    return X_left, X_right, y_left, y_right\n"
      ],
      "execution_count": null,
      "outputs": []
    },
    {
      "cell_type": "code",
      "metadata": {
        "id": "OJO8-0R_PheL"
      },
      "source": [
        "def find_best_split(X, y, split_attribute):\n",
        "\n",
        "\n",
        "    best_info_gain = 0\n",
        "    X = np.array(X)\n",
        "    column_split = X[:,split_attribute]\n",
        "\n",
        "    column_split = np.unique(column_split)\n",
        "    best_split_val = column_split[0]\n",
        "\n",
        "    for split_val in column_split:\n",
        "        current_X_left, current_X_right, current_y_left, current_y_right = partition_classes(X, y, split_attribute, split_val)\n",
        "        current_y = []\n",
        "        current_y.append(current_y_left)\n",
        "        current_y.append(current_y_right)\n",
        "\n",
        "        current_info_gain = information_gain(y,current_y)\n",
        "        if current_info_gain > best_info_gain:\n",
        "            best_info_gain = current_info_gain \n",
        "            best_split_val = split_val\n",
        "\n",
        "    return best_split_val, best_info_gain\n"
      ],
      "execution_count": null,
      "outputs": []
    },
    {
      "cell_type": "code",
      "metadata": {
        "id": "NfALjX7ORIkK"
      },
      "source": [
        "def find_best_feature(X, y):\n",
        "\n",
        "    best_info_gain = 0\n",
        "    best_feature = 0\n",
        "    best_split_val = 0\n",
        "    for feature_index in range(len(X[0])):\n",
        "        current_best_split_val, current_best_info_gain = find_best_split(X, y, feature_index) \n",
        "        if current_best_info_gain>best_info_gain:\n",
        "            best_info_gain = current_best_info_gain\n",
        "            best_feature = feature_index\n",
        "            best_split_val = current_best_split_val\n",
        "    return best_feature, best_split_val\n"
      ],
      "execution_count": null,
      "outputs": []
    },
    {
      "cell_type": "code",
      "metadata": {
        "id": "leTWjal7SGY-"
      },
      "source": [
        "class MyDecisionTree(object):\n",
        "    def __init__(self, max_depth=None):\n",
        "\n",
        "        self.tree = {}\n",
        "        self.residual_tree = {}\n",
        "        self.max_depth = max_depth\n",
        "\n",
        "    def fit(self, X, y, depth):\n",
        "\n",
        "        unique_labels=np.unique(y)\n",
        "        if (len(unique_labels)==1) or (depth == max_depth):\n",
        "            unique_labels, counts_unique_labels = np.unique(y, return_counts=True)\n",
        "            index = counts_unique_labels.argmax()\n",
        "            classification = unique_labels[index]\n",
        "            return classification\n",
        "         \n",
        "\n",
        "        best_feat, best_split = find_best_feature(X, y)\n",
        "        best_split, information_gain = find_best_split(X, y, best_feat)\n",
        "        X_left, X_right, y_left, y_right = partition_classes(X, y, best_feat, best_split)\n",
        "\n",
        "        if isinstance(best_split,str):\n",
        "            question = \"{} == {}\".format(best_feat, best_split)\n",
        "        else:\n",
        "            question = \"{} <= {}\".format(best_feat, best_split)\n",
        "        node = {question: []}\n",
        "\n",
        "        depth+=1\n",
        "        yes_answer = self.fit(X_left,y_left, depth)\n",
        "        no_answer = self.fit(X_right, y_right, depth)\n",
        "\n",
        "        if yes_answer == no_answer:\n",
        "            node = yes_answer\n",
        "        else:\n",
        "            node[question].append(yes_answer)\n",
        "            node[question].append(no_answer)\n",
        "        self.tree = node\n",
        "        return node\n",
        "                                                    \n",
        "    def predict(self, record,flag=1):\n",
        "        if flag == 1:\n",
        "            self.residual_tree = self.tree\n",
        "        question = list(self.residual_tree.keys())[0]\n",
        "        feature, comparison, value = question.split()\n",
        "\n",
        "        if comparison == \"==\":\n",
        "            if record[int(feature)] == value:\n",
        "                answer = self.residual_tree[question][0]\n",
        "            else:\n",
        "                answer = self.residual_tree[question][1]\n",
        "        elif comparison == \"<=\":\n",
        "            if record[int(feature)] <= float(value):\n",
        "                answer = self.residual_tree[question][0]\n",
        "            else:\n",
        "                answer = self.residual_tree[question][1]\n",
        "            \n",
        "            \n",
        "        if not isinstance(answer, dict):\n",
        "            return answer       \n",
        "        else:\n",
        "            self.residual_tree = answer\n",
        "            return self.predict(record,0) "
      ],
      "execution_count": null,
      "outputs": []
    },
    {
      "cell_type": "code",
      "metadata": {
        "id": "MK1PQLWQTkYU"
      },
      "source": [
        "def DecisionTreeEvaluation(id3,X,y, verbose=False):\n",
        "\n",
        "    y_predicted = []\n",
        "    for record in X:\n",
        "        y_predicted.append(id3.predict(record))\n",
        "   \n",
        "    results = [prediction == truth for prediction, truth in zip(y_predicted, y)]\n",
        "    \n",
        "    accuracy = float(results.count(True)) / float(len(results))\n",
        "    if verbose:\n",
        "        print(\"accuracy: %.4f\" % accuracy)\n",
        "    return accuracy "
      ],
      "execution_count": null,
      "outputs": []
    },
    {
      "cell_type": "code",
      "metadata": {
        "id": "G3Gf1439jTKU"
      },
      "source": [
        "column_names =['age', 'workclass','fnlwg', \"education\", 'education_num', 'marital_status',\n",
        "                 \"occupation\", \"relationship\", \"race\", \"sex\", 'capital_gain', 'capital_loss', \"hours_per_week\",\n",
        "               'country', 'target']\n",
        "df_train = pd.read_csv(\"adult_data.csv\",header=None, names = column_names)\n",
        "df_train.drop(columns = \"fnlwg\", inplace = True)\n",
        "df_train.head()"
      ],
      "execution_count": null,
      "outputs": []
    },
    {
      "cell_type": "code",
      "metadata": {
        "id": "Fm6k5HFobJOV"
      },
      "source": [
        "column_names =['age', 'workclass','fnlwg', \"education\", 'education_num', 'marital_status',\n",
        "                 \"occupation\", \"relationship\", \"race\", \"sex\", 'capital_gain', 'capital_loss', \"hours_per_week\",\n",
        "               'country', 'target']\n",
        "df_test = pd.read_csv(\"adult_test.csv\",header=None, names = column_names)\n",
        "df_test.drop(columns = \"fnlwg\", inplace = True)\n",
        "df_test.head()"
      ],
      "execution_count": null,
      "outputs": []
    },
    {
      "cell_type": "code",
      "metadata": {
        "id": "ypBt9Ra8bXC9"
      },
      "source": [
        "df_test = df_test.iloc[1:]\n",
        "df_test.head()"
      ],
      "execution_count": null,
      "outputs": []
    },
    {
      "cell_type": "code",
      "metadata": {
        "id": "YlIrNfCzcQ1z"
      },
      "source": [
        "df_test['age'] = pd.to_numeric(df_test['age'])"
      ],
      "execution_count": null,
      "outputs": []
    },
    {
      "cell_type": "code",
      "metadata": {
        "id": "8HSJpF-hcFdF"
      },
      "source": [
        "df_test.info()"
      ],
      "execution_count": null,
      "outputs": []
    },
    {
      "cell_type": "code",
      "metadata": {
        "id": "Oh2iMTS-m1Kh"
      },
      "source": [
        "X_train = df_train.iloc[:,:-1]\n",
        "y_train = df_train.iloc[:,-1]\n",
        "print(y_train.head())\n",
        "label_enc = LabelEncoder()\n",
        "y_train = label_enc.fit_transform(y_train)\n",
        "print(y_train)"
      ],
      "execution_count": null,
      "outputs": []
    },
    {
      "cell_type": "code",
      "metadata": {
        "id": "9Jdnt6-ipMsq"
      },
      "source": [
        "X_test = df_test.iloc[:,: -1]\n",
        "y_test = df_test.iloc[:,-1]\n",
        "\n",
        "label_enc = LabelEncoder()\n",
        "y_test = label_enc.fit_transform(y_test)\n",
        "y_test"
      ],
      "execution_count": null,
      "outputs": []
    },
    {
      "cell_type": "code",
      "metadata": {
        "id": "q4Keqvu5ofvE"
      },
      "source": [
        "X_train_np, X_test_np = X_train.to_numpy(), X_test.to_numpy()\n",
        "max_depth = 3\n",
        "initial_depth = 0\n",
        "id3_dt = MyDecisionTree(max_depth)\n",
        "print(\"fitting the decision tree\")\n",
        "id3_dt.fit(X_train_np, y_train, initial_depth)\n",
        "DecisionTreeEvaluation(id3_dt,X_train_np,y_test, True)"
      ],
      "execution_count": null,
      "outputs": []
    },
    {
      "cell_type": "code",
      "metadata": {
        "id": "l6iSJMLoUjIl"
      },
      "source": [
        "id3_dt.tree"
      ],
      "execution_count": null,
      "outputs": []
    },
    {
      "cell_type": "code",
      "metadata": {
        "id": "i2PXpgu2Nkyk"
      },
      "source": [
        "X_train.head(3)"
      ],
      "execution_count": null,
      "outputs": []
    },
    {
      "cell_type": "code",
      "metadata": {
        "id": "FhMAQmHaNXsr"
      },
      "source": [
        "X_train_encoded = X_train.copy()\n",
        "for key in ['workclass', \"education\", 'marital_status',\n",
        "            \"occupation\", \"relationship\", \"race\", \"sex\", 'country']:\n",
        "    label_enc_x = LabelEncoder()\n",
        "    X_train_encoded[key] = label_enc_x.fit_transform(X_train[key])"
      ],
      "execution_count": null,
      "outputs": []
    },
    {
      "cell_type": "code",
      "metadata": {
        "id": "nhxPMDRNPgXD"
      },
      "source": [
        "X_test_encoded = X_test.copy()\n",
        "for key in ['workclass', \"education\", 'marital_status',\n",
        "            \"occupation\", \"relationship\", \"race\", \"sex\", 'country']:\n",
        "    label_enc_x = LabelEncoder()\n",
        "    X_test_encoded[key] = label_enc_x.fit_transform(X_test[key])"
      ],
      "execution_count": null,
      "outputs": []
    },
    {
      "cell_type": "code",
      "metadata": {
        "id": "Y6H2xN7mYuYj"
      },
      "source": [
        "X_train"
      ],
      "execution_count": null,
      "outputs": []
    },
    {
      "cell_type": "code",
      "metadata": {
        "id": "Cj6q7mRVJqdh"
      },
      "source": [
        "clf = tree.DecisionTreeClassifier( criterion='entropy', max_depth = max_depth)\n",
        "clf.fit(X_train_encoded, y_train)\n",
        "y_pred = clf.predict(X_test_encoded)\n",
        "print(\"Accuracy:\", metrics.accuracy_score(y_test, y_pred))"
      ],
      "execution_count": null,
      "outputs": []
    },
    {
      "cell_type": "code",
      "metadata": {
        "id": "Fk2INGe71HMg"
      },
      "source": [
        "feature_names = list(X_train)\n",
        "\n",
        "dot_data = StringIO()\n",
        "export_graphviz(clf, out_file=dot_data, feature_names = feature_names,class_names=['0','1'])\n",
        "graph = pydotplus.graph_from_dot_data(dot_data.getvalue())\n",
        "graph.write_png('Iris_tree.png')\n",
        "Image(graph.create_png())"
      ],
      "execution_count": null,
      "outputs": []
    },
    {
      "cell_type": "code",
      "metadata": {
        "id": "ekpGq1w0Y_op"
      },
      "source": [
        ""
      ],
      "execution_count": null,
      "outputs": []
    }
  ]
}